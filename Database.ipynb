{
 "cells": [
  {
   "cell_type": "code",
   "execution_count": 1,
   "id": "b96350ad-15a8-4a9b-a89e-7ed79d39a3f4",
   "metadata": {},
   "outputs": [],
   "source": [
    "import pandas as pd\n",
    "import numpy as np\n",
    "\n",
    "import warnings\n",
    "warnings.filterwarnings('ignore')"
   ]
  },
  {
   "cell_type": "code",
   "execution_count": 3,
   "id": "3094bb5a-8e3c-4367-ac82-3ebe55f72db1",
   "metadata": {},
   "outputs": [],
   "source": [
    "ingredient1 = pd.read_csv(\"/Users/hyeseon/Downloads/ingredients v1.csv\")"
   ]
  },
  {
   "cell_type": "code",
   "execution_count": 6,
   "id": "54b0b00a-ff06-49d9-8f9d-958230add7eb",
   "metadata": {},
   "outputs": [
    {
     "data": {
      "text/html": [
       "<div>\n",
       "<style scoped>\n",
       "    .dataframe tbody tr th:only-of-type {\n",
       "        vertical-align: middle;\n",
       "    }\n",
       "\n",
       "    .dataframe tbody tr th {\n",
       "        vertical-align: top;\n",
       "    }\n",
       "\n",
       "    .dataframe thead th {\n",
       "        text-align: right;\n",
       "    }\n",
       "</style>\n",
       "<table border=\"1\" class=\"dataframe\">\n",
       "  <thead>\n",
       "    <tr style=\"text-align: right;\">\n",
       "      <th></th>\n",
       "      <th>id</th>\n",
       "      <th>asins</th>\n",
       "      <th>brand</th>\n",
       "      <th>categories</th>\n",
       "      <th>dateAdded</th>\n",
       "      <th>dateUpdated</th>\n",
       "      <th>ean</th>\n",
       "      <th>features.key</th>\n",
       "      <th>features.value</th>\n",
       "      <th>manufacturer</th>\n",
       "      <th>manufacturerNumber</th>\n",
       "      <th>name</th>\n",
       "      <th>sizes</th>\n",
       "      <th>upc</th>\n",
       "      <th>weight</th>\n",
       "      <th>Unnamed: 15</th>\n",
       "    </tr>\n",
       "  </thead>\n",
       "  <tbody>\n",
       "    <tr>\n",
       "      <th>0</th>\n",
       "      <td>AVphBRHOilAPnD_x0OrE</td>\n",
       "      <td>B00HXST15C</td>\n",
       "      <td>Simon Fischer</td>\n",
       "      <td>Grocery &amp; Gourmet Food,Food,Grocery</td>\n",
       "      <td>2017-01-07T20:13:17Z</td>\n",
       "      <td>2017-06-30T16:48:02Z</td>\n",
       "      <td>41642026706</td>\n",
       "      <td>Ingredients</td>\n",
       "      <td>Dried Prunes,Water,Corn Syrup,Sugar,Pectin.</td>\n",
       "      <td>Sokol And Company</td>\n",
       "      <td>33829</td>\n",
       "      <td>Simon Fischer Fruit Bttr Prune Lekvar</td>\n",
       "      <td>NaN</td>\n",
       "      <td>41642026706</td>\n",
       "      <td>10.6 pounds</td>\n",
       "      <td>NaN</td>\n",
       "    </tr>\n",
       "    <tr>\n",
       "      <th>1</th>\n",
       "      <td>AVpfNFy1LJeJML434ma2</td>\n",
       "      <td>B008VT0W8C,B0092F8OJ8</td>\n",
       "      <td>McCormick</td>\n",
       "      <td>Grocery &amp; Gourmet Food,Food,Grocery</td>\n",
       "      <td>2016-02-05T21:08:01Z</td>\n",
       "      <td>2017-04-12T13:54:04Z</td>\n",
       "      <td>52100018164</td>\n",
       "      <td>Ingredients</td>\n",
       "      <td>Salt,Sugar,Molasses (Refinery Syrup, Molasses,...</td>\n",
       "      <td>McCormick &amp; Co, Inc</td>\n",
       "      <td>MCLANE500373852</td>\n",
       "      <td>McCORMICK GRILL MATES MOLASSES BACON SEASONING...</td>\n",
       "      <td>NaN</td>\n",
       "      <td>52100018164</td>\n",
       "      <td>3.5 ounces</td>\n",
       "      <td>NaN</td>\n",
       "    </tr>\n",
       "    <tr>\n",
       "      <th>2</th>\n",
       "      <td>AVpgT49VLJeJML43MJEz</td>\n",
       "      <td>B00CHTWZ2S</td>\n",
       "      <td>Jolly Time</td>\n",
       "      <td>Grocery &amp; Gourmet Food,Grocery</td>\n",
       "      <td>2014-02-18T01:51:23Z</td>\n",
       "      <td>2017-08-07T16:32:11Z</td>\n",
       "      <td>70670004141</td>\n",
       "      <td>Ingredients</td>\n",
       "      <td>Salt, Yellow 5 Lake, Tricalcium Phosphate And ...</td>\n",
       "      <td>Reese's</td>\n",
       "      <td>NaN</td>\n",
       "      <td>Jolly Time Popcorn</td>\n",
       "      <td>NaN</td>\n",
       "      <td>70670004141</td>\n",
       "      <td>1.8 pounds</td>\n",
       "      <td>NaN</td>\n",
       "    </tr>\n",
       "    <tr>\n",
       "      <th>3</th>\n",
       "      <td>AVphYgnzLJeJML43aPp2</td>\n",
       "      <td>B002JJYNVW</td>\n",
       "      <td>Ziyad</td>\n",
       "      <td>Grocery &amp; Gourmet Food,grocery</td>\n",
       "      <td>2014-11-04T11:39:27Z</td>\n",
       "      <td>2017-09-04T05:10:37Z</td>\n",
       "      <td>NaN</td>\n",
       "      <td>Ingredients</td>\n",
       "      <td>Mechanically hulled seasame seeds.Allergy Info...</td>\n",
       "      <td>Ziyad</td>\n",
       "      <td>NaN</td>\n",
       "      <td>Ziyad Tahini Sesame Sauce</td>\n",
       "      <td>NaN</td>\n",
       "      <td>74265001560</td>\n",
       "      <td>1.6 pounds</td>\n",
       "      <td>NaN</td>\n",
       "    </tr>\n",
       "    <tr>\n",
       "      <th>4</th>\n",
       "      <td>AVpiS0bOLJeJML43kRsh</td>\n",
       "      <td>B00290W1CY</td>\n",
       "      <td>Fla-Vor-Ice</td>\n",
       "      <td>Grocery &amp; Gourmet Food,grocery</td>\n",
       "      <td>2014-02-18T02:32:12Z</td>\n",
       "      <td>2017-08-26T01:45:28Z</td>\n",
       "      <td>723,929,530,040,072,000,000,000</td>\n",
       "      <td>Ingredients</td>\n",
       "      <td>FALSE</td>\n",
       "      <td>Fla-Vor-Ice</td>\n",
       "      <td>NaN</td>\n",
       "      <td>Fla-Vor-Ice Plus Giant Pops</td>\n",
       "      <td>NaN</td>\n",
       "      <td>72,392,952,335,072,300,000,000</td>\n",
       "      <td>18 pounds</td>\n",
       "      <td>NaN</td>\n",
       "    </tr>\n",
       "  </tbody>\n",
       "</table>\n",
       "</div>"
      ],
      "text/plain": [
       "                     id                  asins          brand  \\\n",
       "0  AVphBRHOilAPnD_x0OrE             B00HXST15C  Simon Fischer   \n",
       "1  AVpfNFy1LJeJML434ma2  B008VT0W8C,B0092F8OJ8      McCormick   \n",
       "2  AVpgT49VLJeJML43MJEz             B00CHTWZ2S     Jolly Time   \n",
       "3  AVphYgnzLJeJML43aPp2             B002JJYNVW          Ziyad   \n",
       "4  AVpiS0bOLJeJML43kRsh             B00290W1CY    Fla-Vor-Ice   \n",
       "\n",
       "                            categories             dateAdded  \\\n",
       "0  Grocery & Gourmet Food,Food,Grocery  2017-01-07T20:13:17Z   \n",
       "1  Grocery & Gourmet Food,Food,Grocery  2016-02-05T21:08:01Z   \n",
       "2       Grocery & Gourmet Food,Grocery  2014-02-18T01:51:23Z   \n",
       "3       Grocery & Gourmet Food,grocery  2014-11-04T11:39:27Z   \n",
       "4       Grocery & Gourmet Food,grocery  2014-02-18T02:32:12Z   \n",
       "\n",
       "            dateUpdated                              ean features.key  \\\n",
       "0  2017-06-30T16:48:02Z                      41642026706  Ingredients   \n",
       "1  2017-04-12T13:54:04Z                      52100018164  Ingredients   \n",
       "2  2017-08-07T16:32:11Z                      70670004141  Ingredients   \n",
       "3  2017-09-04T05:10:37Z                              NaN  Ingredients   \n",
       "4  2017-08-26T01:45:28Z  723,929,530,040,072,000,000,000  Ingredients   \n",
       "\n",
       "                                      features.value         manufacturer  \\\n",
       "0        Dried Prunes,Water,Corn Syrup,Sugar,Pectin.    Sokol And Company   \n",
       "1  Salt,Sugar,Molasses (Refinery Syrup, Molasses,...  McCormick & Co, Inc   \n",
       "2  Salt, Yellow 5 Lake, Tricalcium Phosphate And ...              Reese's   \n",
       "3  Mechanically hulled seasame seeds.Allergy Info...                Ziyad   \n",
       "4                                              FALSE          Fla-Vor-Ice   \n",
       "\n",
       "  manufacturerNumber                                               name sizes  \\\n",
       "0              33829              Simon Fischer Fruit Bttr Prune Lekvar   NaN   \n",
       "1    MCLANE500373852  McCORMICK GRILL MATES MOLASSES BACON SEASONING...   NaN   \n",
       "2                NaN                                 Jolly Time Popcorn   NaN   \n",
       "3                NaN                          Ziyad Tahini Sesame Sauce   NaN   \n",
       "4                NaN                        Fla-Vor-Ice Plus Giant Pops   NaN   \n",
       "\n",
       "                              upc       weight  Unnamed: 15  \n",
       "0                     41642026706  10.6 pounds          NaN  \n",
       "1                     52100018164   3.5 ounces          NaN  \n",
       "2                     70670004141   1.8 pounds          NaN  \n",
       "3                     74265001560   1.6 pounds          NaN  \n",
       "4  72,392,952,335,072,300,000,000    18 pounds          NaN  "
      ]
     },
     "execution_count": 6,
     "metadata": {},
     "output_type": "execute_result"
    }
   ],
   "source": [
    "ingredient1.head()"
   ]
  },
  {
   "cell_type": "code",
   "execution_count": 7,
   "id": "3883a4b0-dc19-4d30-bd36-fd12e76e028d",
   "metadata": {},
   "outputs": [
    {
     "data": {
      "text/plain": [
       "(10000, 16)"
      ]
     },
     "execution_count": 7,
     "metadata": {},
     "output_type": "execute_result"
    }
   ],
   "source": [
    "ingredient1.shape"
   ]
  },
  {
   "cell_type": "code",
   "execution_count": 9,
   "id": "db8bc888-da01-48ea-a2e3-a7e766d63530",
   "metadata": {},
   "outputs": [
    {
     "data": {
      "text/plain": [
       "0"
      ]
     },
     "execution_count": 9,
     "metadata": {},
     "output_type": "execute_result"
    }
   ],
   "source": [
    "sum(ingredient1.duplicated()) #no duplicates"
   ]
  },
  {
   "cell_type": "code",
   "execution_count": 15,
   "id": "117b2d2d-10ce-4166-84cf-35eb37d6f7f0",
   "metadata": {},
   "outputs": [],
   "source": [
    "ingredient1 = ingredient1[['name','features.value']].copy()"
   ]
  },
  {
   "cell_type": "code",
   "execution_count": 16,
   "id": "b4c86cc6-216e-411a-a7a2-c8ea0a0c5ad9",
   "metadata": {},
   "outputs": [
    {
     "data": {
      "text/plain": [
       "name               1\n",
       "features.value    28\n",
       "dtype: int64"
      ]
     },
     "execution_count": 16,
     "metadata": {},
     "output_type": "execute_result"
    }
   ],
   "source": [
    "ingredient1.isna().sum()"
   ]
  },
  {
   "cell_type": "code",
   "execution_count": 20,
   "id": "6a8db797-df5b-402f-b489-98b3f0880eae",
   "metadata": {},
   "outputs": [
    {
     "data": {
      "text/plain": [
       "(9971, 2)"
      ]
     },
     "execution_count": 20,
     "metadata": {},
     "output_type": "execute_result"
    }
   ],
   "source": [
    "ingredient1.dropna(inplace=True)\n",
    "ingredient1.shape"
   ]
  },
  {
   "cell_type": "code",
   "execution_count": 21,
   "id": "eaa212db-30a9-4858-940d-4ee43363b8c4",
   "metadata": {},
   "outputs": [
    {
     "data": {
      "text/html": [
       "<div>\n",
       "<style scoped>\n",
       "    .dataframe tbody tr th:only-of-type {\n",
       "        vertical-align: middle;\n",
       "    }\n",
       "\n",
       "    .dataframe tbody tr th {\n",
       "        vertical-align: top;\n",
       "    }\n",
       "\n",
       "    .dataframe thead th {\n",
       "        text-align: right;\n",
       "    }\n",
       "</style>\n",
       "<table border=\"1\" class=\"dataframe\">\n",
       "  <thead>\n",
       "    <tr style=\"text-align: right;\">\n",
       "      <th></th>\n",
       "      <th>name</th>\n",
       "      <th>features.value</th>\n",
       "    </tr>\n",
       "  </thead>\n",
       "  <tbody>\n",
       "    <tr>\n",
       "      <th>0</th>\n",
       "      <td>Simon Fischer Fruit Bttr Prune Lekvar</td>\n",
       "      <td>Dried Prunes,Water,Corn Syrup,Sugar,Pectin.</td>\n",
       "    </tr>\n",
       "    <tr>\n",
       "      <th>1</th>\n",
       "      <td>McCORMICK GRILL MATES MOLASSES BACON SEASONING...</td>\n",
       "      <td>Salt,Sugar,Molasses (Refinery Syrup, Molasses,...</td>\n",
       "    </tr>\n",
       "    <tr>\n",
       "      <th>2</th>\n",
       "      <td>Jolly Time Popcorn</td>\n",
       "      <td>Salt, Yellow 5 Lake, Tricalcium Phosphate And ...</td>\n",
       "    </tr>\n",
       "    <tr>\n",
       "      <th>3</th>\n",
       "      <td>Ziyad Tahini Sesame Sauce</td>\n",
       "      <td>Mechanically hulled seasame seeds.Allergy Info...</td>\n",
       "    </tr>\n",
       "    <tr>\n",
       "      <th>4</th>\n",
       "      <td>Fla-Vor-Ice Plus Giant Pops</td>\n",
       "      <td>FALSE</td>\n",
       "    </tr>\n",
       "  </tbody>\n",
       "</table>\n",
       "</div>"
      ],
      "text/plain": [
       "                                                name  \\\n",
       "0              Simon Fischer Fruit Bttr Prune Lekvar   \n",
       "1  McCORMICK GRILL MATES MOLASSES BACON SEASONING...   \n",
       "2                                 Jolly Time Popcorn   \n",
       "3                          Ziyad Tahini Sesame Sauce   \n",
       "4                        Fla-Vor-Ice Plus Giant Pops   \n",
       "\n",
       "                                      features.value  \n",
       "0        Dried Prunes,Water,Corn Syrup,Sugar,Pectin.  \n",
       "1  Salt,Sugar,Molasses (Refinery Syrup, Molasses,...  \n",
       "2  Salt, Yellow 5 Lake, Tricalcium Phosphate And ...  \n",
       "3  Mechanically hulled seasame seeds.Allergy Info...  \n",
       "4                                              FALSE  "
      ]
     },
     "execution_count": 21,
     "metadata": {},
     "output_type": "execute_result"
    }
   ],
   "source": [
    "ingredient1.head()"
   ]
  },
  {
   "cell_type": "code",
   "execution_count": 22,
   "id": "11db215c-b3b3-4cdf-8366-272b3a1e4ba9",
   "metadata": {},
   "outputs": [],
   "source": [
    "ingredient2 = pd.read_csv(\"/Users/hyeseon/Downloads/food_ingredients_and_allergens.csv\")"
   ]
  },
  {
   "cell_type": "code",
   "execution_count": 23,
   "id": "bf64ce76-dc65-4243-aedc-deb73ee1efe0",
   "metadata": {},
   "outputs": [
    {
     "data": {
      "text/html": [
       "<div>\n",
       "<style scoped>\n",
       "    .dataframe tbody tr th:only-of-type {\n",
       "        vertical-align: middle;\n",
       "    }\n",
       "\n",
       "    .dataframe tbody tr th {\n",
       "        vertical-align: top;\n",
       "    }\n",
       "\n",
       "    .dataframe thead th {\n",
       "        text-align: right;\n",
       "    }\n",
       "</style>\n",
       "<table border=\"1\" class=\"dataframe\">\n",
       "  <thead>\n",
       "    <tr style=\"text-align: right;\">\n",
       "      <th></th>\n",
       "      <th>Food Product</th>\n",
       "      <th>Main Ingredient</th>\n",
       "      <th>Sweetener</th>\n",
       "      <th>Fat/Oil</th>\n",
       "      <th>Seasoning</th>\n",
       "      <th>Allergens</th>\n",
       "      <th>Prediction</th>\n",
       "    </tr>\n",
       "  </thead>\n",
       "  <tbody>\n",
       "    <tr>\n",
       "      <th>0</th>\n",
       "      <td>Almond Cookies</td>\n",
       "      <td>Almonds</td>\n",
       "      <td>Sugar</td>\n",
       "      <td>Butter</td>\n",
       "      <td>Flour</td>\n",
       "      <td>Almonds, Wheat, Dairy</td>\n",
       "      <td>Contains</td>\n",
       "    </tr>\n",
       "    <tr>\n",
       "      <th>1</th>\n",
       "      <td>Almond Cookies</td>\n",
       "      <td>Almonds</td>\n",
       "      <td>Sugar</td>\n",
       "      <td>Butter</td>\n",
       "      <td>Flour</td>\n",
       "      <td>Almonds, Wheat, Dairy</td>\n",
       "      <td>Contains</td>\n",
       "    </tr>\n",
       "    <tr>\n",
       "      <th>2</th>\n",
       "      <td>Chicken Noodle Soup</td>\n",
       "      <td>Chicken broth</td>\n",
       "      <td>NaN</td>\n",
       "      <td>NaN</td>\n",
       "      <td>Salt</td>\n",
       "      <td>Chicken, Wheat, Celery</td>\n",
       "      <td>Contains</td>\n",
       "    </tr>\n",
       "    <tr>\n",
       "      <th>3</th>\n",
       "      <td>Chicken Noodle Soup</td>\n",
       "      <td>Chicken broth</td>\n",
       "      <td>NaN</td>\n",
       "      <td>NaN</td>\n",
       "      <td>Salt</td>\n",
       "      <td>Chicken, Wheat, Celery</td>\n",
       "      <td>Contains</td>\n",
       "    </tr>\n",
       "    <tr>\n",
       "      <th>4</th>\n",
       "      <td>Cheddar Cheese</td>\n",
       "      <td>Cheese</td>\n",
       "      <td>NaN</td>\n",
       "      <td>NaN</td>\n",
       "      <td>Salt</td>\n",
       "      <td>Dairy</td>\n",
       "      <td>Contains</td>\n",
       "    </tr>\n",
       "  </tbody>\n",
       "</table>\n",
       "</div>"
      ],
      "text/plain": [
       "          Food Product Main Ingredient Sweetener Fat/Oil Seasoning  \\\n",
       "0       Almond Cookies         Almonds     Sugar  Butter     Flour   \n",
       "1       Almond Cookies         Almonds     Sugar  Butter     Flour   \n",
       "2  Chicken Noodle Soup   Chicken broth       NaN     NaN      Salt   \n",
       "3  Chicken Noodle Soup   Chicken broth       NaN     NaN      Salt   \n",
       "4       Cheddar Cheese          Cheese       NaN     NaN      Salt   \n",
       "\n",
       "                Allergens Prediction  \n",
       "0   Almonds, Wheat, Dairy   Contains  \n",
       "1   Almonds, Wheat, Dairy   Contains  \n",
       "2  Chicken, Wheat, Celery   Contains  \n",
       "3  Chicken, Wheat, Celery   Contains  \n",
       "4                   Dairy   Contains  "
      ]
     },
     "execution_count": 23,
     "metadata": {},
     "output_type": "execute_result"
    }
   ],
   "source": [
    "ingredient2.head()"
   ]
  },
  {
   "cell_type": "code",
   "execution_count": 24,
   "id": "baa9832d-c690-4e8f-a474-dd80c81e7f1a",
   "metadata": {},
   "outputs": [
    {
     "data": {
      "text/plain": [
       "(399, 7)"
      ]
     },
     "execution_count": 24,
     "metadata": {},
     "output_type": "execute_result"
    }
   ],
   "source": [
    "ingredient2.shape"
   ]
  },
  {
   "cell_type": "code",
   "execution_count": 47,
   "id": "aed3cd33-6358-4d22-9d3a-be13a3b40606",
   "metadata": {},
   "outputs": [
    {
     "data": {
      "text/plain": [
       "array(['Contains', 'Does not contain', nan], dtype=object)"
      ]
     },
     "execution_count": 47,
     "metadata": {},
     "output_type": "execute_result"
    }
   ],
   "source": [
    "ingredient2['Prediction'].unique()"
   ]
  },
  {
   "cell_type": "code",
   "execution_count": 63,
   "id": "96aa9020-6165-442f-9d0d-944b8d06a0ce",
   "metadata": {},
   "outputs": [
    {
     "data": {
      "text/plain": [
       "Prediction\n",
       "Contains            255\n",
       "Does not contain    143\n",
       "Name: count, dtype: int64"
      ]
     },
     "execution_count": 63,
     "metadata": {},
     "output_type": "execute_result"
    }
   ],
   "source": [
    "ingredient2['Prediction'].value_counts()"
   ]
  },
  {
   "cell_type": "code",
   "execution_count": 66,
   "id": "141d024f-4613-4747-af1f-25f04a62d049",
   "metadata": {},
   "outputs": [],
   "source": [
    "ingredient2.dropna(inplace=True)"
   ]
  },
  {
   "cell_type": "code",
   "execution_count": 67,
   "id": "01266940-8290-4512-bebb-6d1d6aceff29",
   "metadata": {},
   "outputs": [
    {
     "data": {
      "text/plain": [
       "Food Product       0\n",
       "Main Ingredient    0\n",
       "Sweetener          0\n",
       "Fat/Oil            0\n",
       "Seasoning          0\n",
       "Allergens          0\n",
       "Prediction         0\n",
       "dtype: int64"
      ]
     },
     "execution_count": 67,
     "metadata": {},
     "output_type": "execute_result"
    }
   ],
   "source": [
    "ingredient2.isnull().sum()"
   ]
  },
  {
   "cell_type": "code",
   "execution_count": 174,
   "id": "ea7fb26d-6ed1-469b-b5cd-4c6f232b2d8a",
   "metadata": {},
   "outputs": [],
   "source": [
    "def categorize_allergens(allergens):\n",
    "    categories = {\n",
    "        'Cereals containing gluten': ['wheat', 'spelt', 'barley', 'oat'],\n",
    "        'Crustaceans and their products': ['shrimps', 'crabs', 'lobsters', 'crayfish'],\n",
    "        'Eggs and egg products': ['eggs','egg white','egg yolk'],\n",
    "        'Fish and fish products': ['anchovies', 'sardines', 'caviar', 'salmon', 'tuna', 'cod', 'fish sauce','fish'],\n",
    "        'Peanuts and peanut products': ['peanuts', 'peanut oil', 'groundnuts', 'arachis oil'],\n",
    "        'Soybeans and soy products': ['soybeans', 'soy protein', 'soy sauce', 'edamame'],\n",
    "        'Milk and milk products': ['milk', 'lactose', 'casein', 'cheese', 'cream', 'yogurt', 'whey'],\n",
    "        'Nuts (tree nuts) and nut products': ['almonds', 'walnuts', 'cashews', 'pecans', 'hazelnuts', 'brazilnuts','nuts'],\n",
    "        'Sesame seeds and sesame products': ['sesame seeds', 'sesame oil', 'tahini'],\n",
    "        'Sulphur dioxide and sulphites': [],\n",
    "        'Mustard and mustard products': ['mustard seeds', 'mustard powder', 'dijon mustard'],\n",
    "        'Lupin and lupin products': ['lupin beans', 'lupin flour'],\n",
    "        'Mollusks and their products': ['clams', 'mussels', 'oysters'],\n",
    "    }\n",
    "    categorized_allergens = {category: [] for category in categories.keys()}\n",
    "\n",
    "    for allergen in allergens:\n",
    "            for category, terms in categories.items():\n",
    "                if allergen in terms:\n",
    "                    categorized_allergens[category].append(allergen)\n",
    "                    break\n",
    "\n",
    "    return categorized_allergens\n"
   ]
  },
  {
   "cell_type": "code",
   "execution_count": 175,
   "id": "e483789b-1153-4e6b-b5f8-aa70a8960a66",
   "metadata": {},
   "outputs": [],
   "source": [
    "categorized_allergens = categorize_allergens(allergens)\n"
   ]
  },
  {
   "cell_type": "code",
   "execution_count": 43,
   "id": "c8b937b2-4bcc-456a-ae02-53ddf55103bd",
   "metadata": {},
   "outputs": [],
   "source": [
    "def categorize_allergens(text):\n",
    "    text = text.lower()  # Convert text to lowercase\n",
    "    detected_allergens = []\n",
    "    for category, allergens in categorized_allergens.items():\n",
    "        for allergen in allergens:\n",
    "            if allergen in text:\n",
    "                detected_allergens.append(category)\n",
    "                break\n",
    "    return ', '.join(detected_allergens) if detected_allergens else 'No allergens'\n",
    "\n",
    "ingredient1['Allergens'] = ingredient1['features.value'].apply(categorize_allergens)"
   ]
  },
  {
   "cell_type": "code",
   "execution_count": 46,
   "id": "38e50fd0-d302-46be-8481-30991996e5cc",
   "metadata": {},
   "outputs": [
    {
     "data": {
      "text/html": [
       "<div>\n",
       "<style scoped>\n",
       "    .dataframe tbody tr th:only-of-type {\n",
       "        vertical-align: middle;\n",
       "    }\n",
       "\n",
       "    .dataframe tbody tr th {\n",
       "        vertical-align: top;\n",
       "    }\n",
       "\n",
       "    .dataframe thead th {\n",
       "        text-align: right;\n",
       "    }\n",
       "</style>\n",
       "<table border=\"1\" class=\"dataframe\">\n",
       "  <thead>\n",
       "    <tr style=\"text-align: right;\">\n",
       "      <th></th>\n",
       "      <th>name</th>\n",
       "      <th>features.value</th>\n",
       "      <th>Allergens</th>\n",
       "    </tr>\n",
       "  </thead>\n",
       "  <tbody>\n",
       "    <tr>\n",
       "      <th>9995</th>\n",
       "      <td>Wright's Liquid Smoke - 3.5 Oz</td>\n",
       "      <td>water,natural hickory smoke flavor.</td>\n",
       "      <td>No allergens</td>\n",
       "    </tr>\n",
       "    <tr>\n",
       "      <th>9996</th>\n",
       "      <td>Eden Foods Organic Pocket Snacks - Tamari Almo...</td>\n",
       "      <td>Organic Dry Roasted Almonds,Organic Tamari Soy...</td>\n",
       "      <td>Soybeans and soy products, Nuts (tree nuts) an...</td>\n",
       "    </tr>\n",
       "    <tr>\n",
       "      <th>9997</th>\n",
       "      <td>Happy Belly Fancy Whole Cashews, 44 Ounce</td>\n",
       "      <td>Cashews, Vegetable Oil (May Contain One Or Mor...</td>\n",
       "      <td>Nuts (tree nuts) and nut products</td>\n",
       "    </tr>\n",
       "    <tr>\n",
       "      <th>9998</th>\n",
       "      <td>QuakerÂ® PoppedÂ® Cheddar Cheese Rice Crisps 6...</td>\n",
       "      <td>Whole Grain Brown Rice Flour,Degerminated Mill...</td>\n",
       "      <td>Milk and milk products</td>\n",
       "    </tr>\n",
       "    <tr>\n",
       "      <th>9999</th>\n",
       "      <td>Alpen All Natural Muesli Original</td>\n",
       "      <td>Non-GMO Whole Grain Wheat,Non-GMO Whole Grain ...</td>\n",
       "      <td>Cereals containing gluten, Milk and milk produ...</td>\n",
       "    </tr>\n",
       "  </tbody>\n",
       "</table>\n",
       "</div>"
      ],
      "text/plain": [
       "                                                   name  \\\n",
       "9995                     Wright's Liquid Smoke - 3.5 Oz   \n",
       "9996  Eden Foods Organic Pocket Snacks - Tamari Almo...   \n",
       "9997          Happy Belly Fancy Whole Cashews, 44 Ounce   \n",
       "9998  QuakerÂ® PoppedÂ® Cheddar Cheese Rice Crisps 6...   \n",
       "9999                  Alpen All Natural Muesli Original   \n",
       "\n",
       "                                         features.value  \\\n",
       "9995                water,natural hickory smoke flavor.   \n",
       "9996  Organic Dry Roasted Almonds,Organic Tamari Soy...   \n",
       "9997  Cashews, Vegetable Oil (May Contain One Or Mor...   \n",
       "9998  Whole Grain Brown Rice Flour,Degerminated Mill...   \n",
       "9999  Non-GMO Whole Grain Wheat,Non-GMO Whole Grain ...   \n",
       "\n",
       "                                              Allergens  \n",
       "9995                                       No allergens  \n",
       "9996  Soybeans and soy products, Nuts (tree nuts) an...  \n",
       "9997                  Nuts (tree nuts) and nut products  \n",
       "9998                             Milk and milk products  \n",
       "9999  Cereals containing gluten, Milk and milk produ...  "
      ]
     },
     "execution_count": 46,
     "metadata": {},
     "output_type": "execute_result"
    }
   ],
   "source": [
    "ingredient1.head()\n",
    "ingredient1.tail()"
   ]
  },
  {
   "cell_type": "code",
   "execution_count": 150,
   "id": "c6579b17-c96e-42c1-a8ec-b83f528ba382",
   "metadata": {},
   "outputs": [],
   "source": [
    "ingredient1[ingredient1['name'].str.contains('pizza', case=False)]"
   ]
  },
  {
   "cell_type": "code",
   "execution_count": 49,
   "id": "6e16d606-0b5d-4d87-90f1-163ff9f38a0d",
   "metadata": {},
   "outputs": [],
   "source": [
    "def create_prediction(Allergens):\n",
    "    if Allergens == 'No allergens':\n",
    "        return 'Does not contain'\n",
    "    else:\n",
    "        return 'Contains'\n",
    "\n",
    "ingredient1['Prediction'] = ingredient1['Allergens'].apply(create_prediction)"
   ]
  },
  {
   "cell_type": "code",
   "execution_count": 51,
   "id": "ebdf0503-9102-4711-a277-f5cf365471b9",
   "metadata": {},
   "outputs": [
    {
     "data": {
      "text/html": [
       "<div>\n",
       "<style scoped>\n",
       "    .dataframe tbody tr th:only-of-type {\n",
       "        vertical-align: middle;\n",
       "    }\n",
       "\n",
       "    .dataframe tbody tr th {\n",
       "        vertical-align: top;\n",
       "    }\n",
       "\n",
       "    .dataframe thead th {\n",
       "        text-align: right;\n",
       "    }\n",
       "</style>\n",
       "<table border=\"1\" class=\"dataframe\">\n",
       "  <thead>\n",
       "    <tr style=\"text-align: right;\">\n",
       "      <th></th>\n",
       "      <th>name</th>\n",
       "      <th>features.value</th>\n",
       "      <th>Allergens</th>\n",
       "      <th>Prediction</th>\n",
       "    </tr>\n",
       "  </thead>\n",
       "  <tbody>\n",
       "    <tr>\n",
       "      <th>9995</th>\n",
       "      <td>Wright's Liquid Smoke - 3.5 Oz</td>\n",
       "      <td>water,natural hickory smoke flavor.</td>\n",
       "      <td>No allergens</td>\n",
       "      <td>Does not contain</td>\n",
       "    </tr>\n",
       "    <tr>\n",
       "      <th>9996</th>\n",
       "      <td>Eden Foods Organic Pocket Snacks - Tamari Almo...</td>\n",
       "      <td>Organic Dry Roasted Almonds,Organic Tamari Soy...</td>\n",
       "      <td>Soybeans and soy products, Nuts (tree nuts) an...</td>\n",
       "      <td>Contains</td>\n",
       "    </tr>\n",
       "    <tr>\n",
       "      <th>9997</th>\n",
       "      <td>Happy Belly Fancy Whole Cashews, 44 Ounce</td>\n",
       "      <td>Cashews, Vegetable Oil (May Contain One Or Mor...</td>\n",
       "      <td>Nuts (tree nuts) and nut products</td>\n",
       "      <td>Contains</td>\n",
       "    </tr>\n",
       "    <tr>\n",
       "      <th>9998</th>\n",
       "      <td>QuakerÂ® PoppedÂ® Cheddar Cheese Rice Crisps 6...</td>\n",
       "      <td>Whole Grain Brown Rice Flour,Degerminated Mill...</td>\n",
       "      <td>Milk and milk products</td>\n",
       "      <td>Contains</td>\n",
       "    </tr>\n",
       "    <tr>\n",
       "      <th>9999</th>\n",
       "      <td>Alpen All Natural Muesli Original</td>\n",
       "      <td>Non-GMO Whole Grain Wheat,Non-GMO Whole Grain ...</td>\n",
       "      <td>Cereals containing gluten, Milk and milk produ...</td>\n",
       "      <td>Contains</td>\n",
       "    </tr>\n",
       "  </tbody>\n",
       "</table>\n",
       "</div>"
      ],
      "text/plain": [
       "                                                   name  \\\n",
       "9995                     Wright's Liquid Smoke - 3.5 Oz   \n",
       "9996  Eden Foods Organic Pocket Snacks - Tamari Almo...   \n",
       "9997          Happy Belly Fancy Whole Cashews, 44 Ounce   \n",
       "9998  QuakerÂ® PoppedÂ® Cheddar Cheese Rice Crisps 6...   \n",
       "9999                  Alpen All Natural Muesli Original   \n",
       "\n",
       "                                         features.value  \\\n",
       "9995                water,natural hickory smoke flavor.   \n",
       "9996  Organic Dry Roasted Almonds,Organic Tamari Soy...   \n",
       "9997  Cashews, Vegetable Oil (May Contain One Or Mor...   \n",
       "9998  Whole Grain Brown Rice Flour,Degerminated Mill...   \n",
       "9999  Non-GMO Whole Grain Wheat,Non-GMO Whole Grain ...   \n",
       "\n",
       "                                              Allergens        Prediction  \n",
       "9995                                       No allergens  Does not contain  \n",
       "9996  Soybeans and soy products, Nuts (tree nuts) an...          Contains  \n",
       "9997                  Nuts (tree nuts) and nut products          Contains  \n",
       "9998                             Milk and milk products          Contains  \n",
       "9999  Cereals containing gluten, Milk and milk produ...          Contains  "
      ]
     },
     "execution_count": 51,
     "metadata": {},
     "output_type": "execute_result"
    }
   ],
   "source": [
    "ingredient1.head()\n",
    "ingredient1.tail()"
   ]
  },
  {
   "cell_type": "code",
   "execution_count": 64,
   "id": "12414fd1-d229-43a1-b624-9b6aef48d434",
   "metadata": {},
   "outputs": [
    {
     "data": {
      "text/plain": [
       "Prediction\n",
       "Contains            5085\n",
       "Does not contain    4886\n",
       "Name: count, dtype: int64"
      ]
     },
     "execution_count": 64,
     "metadata": {},
     "output_type": "execute_result"
    }
   ],
   "source": [
    "ingredient1['Prediction'].value_counts()"
   ]
  },
  {
   "cell_type": "code",
   "execution_count": null,
   "id": "e2cf5e2c-0dbc-40e1-98c4-adf1e12d7ffd",
   "metadata": {},
   "outputs": [],
   "source": []
  },
  {
   "cell_type": "code",
   "execution_count": null,
   "id": "a3bdac9d-8556-4ef8-b79d-987e7dd4493d",
   "metadata": {},
   "outputs": [],
   "source": [
    "#Recommendation Model"
   ]
  },
  {
   "cell_type": "code",
   "execution_count": 104,
   "id": "1d8477b0-873c-4369-b976-2a6c4c607947",
   "metadata": {},
   "outputs": [],
   "source": [
    "from sklearn.feature_extraction.text import TfidfVectorizer\n",
    "from sklearn.metrics.pairwise import linear_kernel"
   ]
  },
  {
   "cell_type": "code",
   "execution_count": null,
   "id": "1eff108c-1305-4ab7-b6af-a626110aef7e",
   "metadata": {},
   "outputs": [],
   "source": [
    "######receive input data#######"
   ]
  },
  {
   "cell_type": "code",
   "execution_count": 172,
   "id": "7028a870-73d5-4d3d-a92e-7b0649458786",
   "metadata": {},
   "outputs": [],
   "source": [
    "input_food = 'pizza'\n",
    "allergen_requirements = 'milk'"
   ]
  },
  {
   "cell_type": "code",
   "execution_count": 173,
   "id": "88f482af-574b-47a7-abca-8176ed28bff9",
   "metadata": {},
   "outputs": [
    {
     "data": {
      "text/html": [
       "<div>\n",
       "<style scoped>\n",
       "    .dataframe tbody tr th:only-of-type {\n",
       "        vertical-align: middle;\n",
       "    }\n",
       "\n",
       "    .dataframe tbody tr th {\n",
       "        vertical-align: top;\n",
       "    }\n",
       "\n",
       "    .dataframe thead th {\n",
       "        text-align: right;\n",
       "    }\n",
       "</style>\n",
       "<table border=\"1\" class=\"dataframe\">\n",
       "  <thead>\n",
       "    <tr style=\"text-align: right;\">\n",
       "      <th></th>\n",
       "      <th>food_data</th>\n",
       "    </tr>\n",
       "  </thead>\n",
       "  <tbody>\n",
       "    <tr>\n",
       "      <th>0</th>\n",
       "      <td>Dried Prunes,Water,Corn Syrup,Sugar,Pectin. | ...</td>\n",
       "    </tr>\n",
       "    <tr>\n",
       "      <th>1</th>\n",
       "      <td>Salt,Sugar,Molasses (Refinery Syrup, Molasses,...</td>\n",
       "    </tr>\n",
       "    <tr>\n",
       "      <th>2</th>\n",
       "      <td>Salt, Yellow 5 Lake, Tricalcium Phosphate And ...</td>\n",
       "    </tr>\n",
       "    <tr>\n",
       "      <th>3</th>\n",
       "      <td>Mechanically hulled seasame seeds.Allergy Info...</td>\n",
       "    </tr>\n",
       "    <tr>\n",
       "      <th>4</th>\n",
       "      <td>FALSE | No allergens</td>\n",
       "    </tr>\n",
       "  </tbody>\n",
       "</table>\n",
       "</div>"
      ],
      "text/plain": [
       "                                           food_data\n",
       "0  Dried Prunes,Water,Corn Syrup,Sugar,Pectin. | ...\n",
       "1  Salt,Sugar,Molasses (Refinery Syrup, Molasses,...\n",
       "2  Salt, Yellow 5 Lake, Tricalcium Phosphate And ...\n",
       "3  Mechanically hulled seasame seeds.Allergy Info...\n",
       "4                               FALSE | No allergens"
      ]
     },
     "execution_count": 173,
     "metadata": {},
     "output_type": "execute_result"
    }
   ],
   "source": [
    "recommendation = pd.DataFrame()\n",
    "recommendation['food_data'] = ingredient1['features.value'] +  \" | \"  + ingredient1['Allergens']\n",
    "recommendation.head()"
   ]
  },
  {
   "cell_type": "code",
   "execution_count": 135,
   "id": "fd19b1b1-70dd-4364-aac7-64b787412bd1",
   "metadata": {},
   "outputs": [],
   "source": [
    "tfidf_vectorizer = TfidfVectorizer()"
   ]
  },
  {
   "cell_type": "code",
   "execution_count": 140,
   "id": "fa1b2cbe-70d6-45bf-a5a0-2985683d23a1",
   "metadata": {},
   "outputs": [],
   "source": [
    "tfidf_matrix = tfidf_vectorizer.fit_transform(recommendation['food_data'])"
   ]
  },
  {
   "cell_type": "code",
   "execution_count": 164,
   "id": "126bc900-d62d-4684-b3ff-6f425cfee9cc",
   "metadata": {},
   "outputs": [],
   "source": [
    "input_food_index = ingredient1[ingredient1['name'].str.contains(input_food, case = False)].index[0]"
   ]
  },
  {
   "cell_type": "code",
   "execution_count": 165,
   "id": "f5f63a33-d777-4972-b4ca-6789eb8cd095",
   "metadata": {},
   "outputs": [],
   "source": [
    "cosine_similarities = linear_kernel(tfidf_matrix[input_food_index], tfidf_matrix).flatten()"
   ]
  },
  {
   "cell_type": "code",
   "execution_count": 166,
   "id": "5fedf2b8-4677-46cc-b0fa-ddbbb32ee278",
   "metadata": {},
   "outputs": [],
   "source": [
    "similar_food_indices = cosine_similarities.argsort()[::-1][1:]"
   ]
  },
  {
   "cell_type": "code",
   "execution_count": 167,
   "id": "665d311f-1900-423d-bd87-549cfc753b65",
   "metadata": {},
   "outputs": [],
   "source": [
    "top_N = 3"
   ]
  },
  {
   "cell_type": "code",
   "execution_count": 168,
   "id": "5b019d42-df49-47f6-bbd6-7111dd30ed65",
   "metadata": {},
   "outputs": [],
   "source": [
    "top_similar_foods = ingredient1['name'].iloc[similar_food_indices[:top_N]]"
   ]
  },
  {
   "cell_type": "code",
   "execution_count": 169,
   "id": "127a3223-3fb5-46b1-b8ba-bcb26dd9ed93",
   "metadata": {},
   "outputs": [
    {
     "name": "stdout",
     "output_type": "stream",
     "text": [
      "Recommended foods similar to {input_food} based on ingredients and allergens : \n",
      "5130           Lunch Combinations, Pepperoni Pizza, 1 kit\n",
      "1798    Tombstone Cheese Stuffed Crust Pepperoni Pizza...\n",
      "2524    Hormel Rev #6 Pepperoni & Sausage Pizza Wrap, ...\n",
      "Name: name, dtype: object\n"
     ]
    }
   ],
   "source": [
    "print(\"Recommended foods similar to {input_food} based on ingredients and allergens : \")\n",
    "print(top_similar_foods)"
   ]
  },
  {
   "cell_type": "code",
   "execution_count": null,
   "id": "a3803ccf-c1b6-463b-b3c7-0716cd90d376",
   "metadata": {},
   "outputs": [],
   "source": []
  },
  {
   "cell_type": "code",
   "execution_count": null,
   "id": "dc25b4cc-d7b9-4c29-934b-4a7666bb4a12",
   "metadata": {},
   "outputs": [],
   "source": []
  },
  {
   "cell_type": "code",
   "execution_count": null,
   "id": "d9d1134d-4704-40f0-b172-7f4a5f209004",
   "metadata": {},
   "outputs": [],
   "source": []
  },
  {
   "cell_type": "code",
   "execution_count": null,
   "id": "3ad4dcfb-4989-4aa1-b1da-be5ea61670f3",
   "metadata": {},
   "outputs": [],
   "source": []
  },
  {
   "cell_type": "code",
   "execution_count": null,
   "id": "71423a77-bcca-4934-a1c6-14893c6f659d",
   "metadata": {},
   "outputs": [],
   "source": []
  }
 ],
 "metadata": {
  "kernelspec": {
   "display_name": "Python 3 (ipykernel)",
   "language": "python",
   "name": "python3"
  },
  "language_info": {
   "codemirror_mode": {
    "name": "ipython",
    "version": 3
   },
   "file_extension": ".py",
   "mimetype": "text/x-python",
   "name": "python",
   "nbconvert_exporter": "python",
   "pygments_lexer": "ipython3",
   "version": "3.9.6"
  }
 },
 "nbformat": 4,
 "nbformat_minor": 5
}
